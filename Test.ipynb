{
 "cells": [
  {
   "cell_type": "code",
   "execution_count": 1,
   "metadata": {},
   "outputs": [
    {
     "data": {
      "text/plain": [
       "{'divide': 'warn', 'over': 'warn', 'under': 'ignore', 'invalid': 'warn'}"
      ]
     },
     "execution_count": 1,
     "metadata": {},
     "output_type": "execute_result"
    }
   ],
   "source": [
    "import pandas as pd\n",
    "import numpy as np\n",
    "np.seterr(divide='ignore', invalid='ignore')"
   ]
  },
  {
   "cell_type": "code",
   "execution_count": 2,
   "metadata": {},
   "outputs": [
    {
     "data": {
      "text/plain": [
       "Prediction    0\n",
       "Timestamp     0\n",
       "UserId        0\n",
       "ItemId        0\n",
       "dtype: int64"
      ]
     },
     "execution_count": 2,
     "metadata": {},
     "output_type": "execute_result"
    }
   ],
   "source": [
    "ratings = pd.read_csv(\"ratings.csv\")\n",
    "ratings_split = pd.DataFrame(ratings[\"UserId:ItemId\"].str.split(':').tolist(),columns = ['UserId','ItemId'])\n",
    "ratings[\"UserId\"] = ratings_split[\"UserId\"]\n",
    "ratings[\"ItemId\"] = ratings_split[\"ItemId\"]\n",
    "ratings.drop(columns=\"UserId:ItemId\", inplace=True)\n",
    "# ratings.set_index(\"UserId\",inplace=True)\n",
    "# ratings.head()\n",
    "ratings.isnull().sum()\n"
   ]
  },
  {
   "cell_type": "code",
   "execution_count": 3,
   "metadata": {},
   "outputs": [
    {
     "data": {
      "text/plain": [
       "ItemId    0\n",
       "dtype: int64"
      ]
     },
     "execution_count": 3,
     "metadata": {},
     "output_type": "execute_result"
    }
   ],
   "source": [
    "targets = pd.read_csv(\"targets.csv\")\n",
    "targets_split = pd.DataFrame(targets[\"UserId:ItemId\"].str.split(':').tolist(),columns=[\"UserId\",\"ItemId\"])\n",
    "targets[\"UserId\"] = targets_split[\"UserId\"]\n",
    "targets[\"ItemId\"] = targets_split[\"ItemId\"]\n",
    "targets.drop(columns=\"UserId:ItemId\", inplace=True)\n",
    "targets.set_index(\"UserId\",inplace=True)\n",
    "\n",
    "# targets.head()\n",
    "targets.isnull().sum()"
   ]
  },
  {
   "cell_type": "code",
   "execution_count": 4,
   "metadata": {},
   "outputs": [
    {
     "data": {
      "text/html": [
       "<div>\n",
       "<style scoped>\n",
       "    .dataframe tbody tr th:only-of-type {\n",
       "        vertical-align: middle;\n",
       "    }\n",
       "\n",
       "    .dataframe tbody tr th {\n",
       "        vertical-align: top;\n",
       "    }\n",
       "\n",
       "    .dataframe thead th {\n",
       "        text-align: right;\n",
       "    }\n",
       "</style>\n",
       "<table border=\"1\" class=\"dataframe\">\n",
       "  <thead>\n",
       "    <tr style=\"text-align: right;\">\n",
       "      <th></th>\n",
       "      <th>Prediction</th>\n",
       "      <th>Timestamp</th>\n",
       "      <th>UserId</th>\n",
       "      <th>ItemId</th>\n",
       "    </tr>\n",
       "  </thead>\n",
       "  <tbody>\n",
       "    <tr>\n",
       "      <th>0</th>\n",
       "      <td>6</td>\n",
       "      <td>1362062307</td>\n",
       "      <td>u0026762</td>\n",
       "      <td>i2171847</td>\n",
       "    </tr>\n",
       "    <tr>\n",
       "      <th>1</th>\n",
       "      <td>8</td>\n",
       "      <td>1362062624</td>\n",
       "      <td>u0026502</td>\n",
       "      <td>i0444778</td>\n",
       "    </tr>\n",
       "    <tr>\n",
       "      <th>2</th>\n",
       "      <td>6</td>\n",
       "      <td>1362062838</td>\n",
       "      <td>u0004598</td>\n",
       "      <td>i1411238</td>\n",
       "    </tr>\n",
       "    <tr>\n",
       "      <th>3</th>\n",
       "      <td>7</td>\n",
       "      <td>1362063503</td>\n",
       "      <td>u0031317</td>\n",
       "      <td>i1496422</td>\n",
       "    </tr>\n",
       "    <tr>\n",
       "      <th>4</th>\n",
       "      <td>5</td>\n",
       "      <td>1362063653</td>\n",
       "      <td>u0024257</td>\n",
       "      <td>i0118799</td>\n",
       "    </tr>\n",
       "  </tbody>\n",
       "</table>\n",
       "</div>"
      ],
      "text/plain": [
       "   Prediction   Timestamp    UserId    ItemId\n",
       "0           6  1362062307  u0026762  i2171847\n",
       "1           8  1362062624  u0026502  i0444778\n",
       "2           6  1362062838  u0004598  i1411238\n",
       "3           7  1362063503  u0031317  i1496422\n",
       "4           5  1362063653  u0024257  i0118799"
      ]
     },
     "execution_count": 4,
     "metadata": {},
     "output_type": "execute_result"
    }
   ],
   "source": [
    "ratings.head()"
   ]
  },
  {
   "cell_type": "code",
   "execution_count": 5,
   "metadata": {},
   "outputs": [
    {
     "data": {
      "text/html": [
       "<div>\n",
       "<style scoped>\n",
       "    .dataframe tbody tr th:only-of-type {\n",
       "        vertical-align: middle;\n",
       "    }\n",
       "\n",
       "    .dataframe tbody tr th {\n",
       "        vertical-align: top;\n",
       "    }\n",
       "\n",
       "    .dataframe thead th {\n",
       "        text-align: right;\n",
       "    }\n",
       "</style>\n",
       "<table border=\"1\" class=\"dataframe\">\n",
       "  <thead>\n",
       "    <tr style=\"text-align: right;\">\n",
       "      <th></th>\n",
       "      <th>ItemId</th>\n",
       "    </tr>\n",
       "    <tr>\n",
       "      <th>UserId</th>\n",
       "      <th></th>\n",
       "    </tr>\n",
       "  </thead>\n",
       "  <tbody>\n",
       "    <tr>\n",
       "      <th>u0000039</th>\n",
       "      <td>i0060196</td>\n",
       "    </tr>\n",
       "    <tr>\n",
       "      <th>u0000039</th>\n",
       "      <td>i0099077</td>\n",
       "    </tr>\n",
       "    <tr>\n",
       "      <th>u0000039</th>\n",
       "      <td>i0102926</td>\n",
       "    </tr>\n",
       "    <tr>\n",
       "      <th>u0000039</th>\n",
       "      <td>i0109830</td>\n",
       "    </tr>\n",
       "    <tr>\n",
       "      <th>u0000039</th>\n",
       "      <td>i0113277</td>\n",
       "    </tr>\n",
       "  </tbody>\n",
       "</table>\n",
       "</div>"
      ],
      "text/plain": [
       "            ItemId\n",
       "UserId            \n",
       "u0000039  i0060196\n",
       "u0000039  i0099077\n",
       "u0000039  i0102926\n",
       "u0000039  i0109830\n",
       "u0000039  i0113277"
      ]
     },
     "execution_count": 5,
     "metadata": {},
     "output_type": "execute_result"
    }
   ],
   "source": [
    "targets.head()"
   ]
  },
  {
   "cell_type": "code",
   "execution_count": 6,
   "metadata": {},
   "outputs": [],
   "source": [
    "ratings[\"count_item_apperances\"] = ratings.groupby(\"ItemId\")[\"ItemId\"].transform('count')\n",
    "ratings[\"count_user_apperances\"] = ratings.groupby(\"UserId\")[\"UserId\"].transform('count')\n",
    "ratings = ratings.loc[(ratings[\"count_item_apperances\"] > 10) | (ratings[\"ItemId\"].isin(targets[\"ItemId\"].unique().tolist()))]\n",
    "ratings = ratings.loc[(ratings[\"count_user_apperances\"] > 10) | (ratings[\"UserId\"].isin(targets.index.unique().tolist()))]"
   ]
  },
  {
   "cell_type": "code",
   "execution_count": 7,
   "metadata": {},
   "outputs": [
    {
     "data": {
      "text/plain": [
       "7266"
      ]
     },
     "execution_count": 7,
     "metadata": {},
     "output_type": "execute_result"
    }
   ],
   "source": [
    "len(ratings[\"ItemId\"].unique().tolist())"
   ]
  },
  {
   "cell_type": "code",
   "execution_count": 8,
   "metadata": {},
   "outputs": [
    {
     "data": {
      "text/plain": [
       "9698"
      ]
     },
     "execution_count": 8,
     "metadata": {},
     "output_type": "execute_result"
    }
   ],
   "source": [
    "len(targets[\"ItemId\"].unique().tolist())"
   ]
  },
  {
   "cell_type": "code",
   "execution_count": 9,
   "metadata": {},
   "outputs": [
    {
     "data": {
      "text/html": [
       "<div>\n",
       "<style scoped>\n",
       "    .dataframe tbody tr th:only-of-type {\n",
       "        vertical-align: middle;\n",
       "    }\n",
       "\n",
       "    .dataframe tbody tr th {\n",
       "        vertical-align: top;\n",
       "    }\n",
       "\n",
       "    .dataframe thead th {\n",
       "        text-align: right;\n",
       "    }\n",
       "</style>\n",
       "<table border=\"1\" class=\"dataframe\">\n",
       "  <thead>\n",
       "    <tr style=\"text-align: right;\">\n",
       "      <th></th>\n",
       "      <th>Prediction</th>\n",
       "      <th>Timestamp</th>\n",
       "      <th>UserId</th>\n",
       "      <th>ItemId</th>\n",
       "      <th>count_item_apperances</th>\n",
       "      <th>count_user_apperances</th>\n",
       "    </tr>\n",
       "  </thead>\n",
       "  <tbody>\n",
       "    <tr>\n",
       "      <th>2</th>\n",
       "      <td>6</td>\n",
       "      <td>1362062838</td>\n",
       "      <td>u0004598</td>\n",
       "      <td>i1411238</td>\n",
       "      <td>43</td>\n",
       "      <td>169</td>\n",
       "    </tr>\n",
       "    <tr>\n",
       "      <th>3</th>\n",
       "      <td>7</td>\n",
       "      <td>1362063503</td>\n",
       "      <td>u0031317</td>\n",
       "      <td>i1496422</td>\n",
       "      <td>100</td>\n",
       "      <td>53</td>\n",
       "    </tr>\n",
       "    <tr>\n",
       "      <th>4</th>\n",
       "      <td>5</td>\n",
       "      <td>1362063653</td>\n",
       "      <td>u0024257</td>\n",
       "      <td>i0118799</td>\n",
       "      <td>102</td>\n",
       "      <td>176</td>\n",
       "    </tr>\n",
       "    <tr>\n",
       "      <th>5</th>\n",
       "      <td>4</td>\n",
       "      <td>1362063879</td>\n",
       "      <td>u0024257</td>\n",
       "      <td>i0338013</td>\n",
       "      <td>209</td>\n",
       "      <td>176</td>\n",
       "    </tr>\n",
       "    <tr>\n",
       "      <th>7</th>\n",
       "      <td>8</td>\n",
       "      <td>1362064047</td>\n",
       "      <td>u0024257</td>\n",
       "      <td>i0064665</td>\n",
       "      <td>28</td>\n",
       "      <td>176</td>\n",
       "    </tr>\n",
       "    <tr>\n",
       "      <th>...</th>\n",
       "      <td>...</td>\n",
       "      <td>...</td>\n",
       "      <td>...</td>\n",
       "      <td>...</td>\n",
       "      <td>...</td>\n",
       "      <td>...</td>\n",
       "    </tr>\n",
       "    <tr>\n",
       "      <th>336666</th>\n",
       "      <td>8</td>\n",
       "      <td>1421527966</td>\n",
       "      <td>u0028976</td>\n",
       "      <td>i2179136</td>\n",
       "      <td>143</td>\n",
       "      <td>25</td>\n",
       "    </tr>\n",
       "    <tr>\n",
       "      <th>336667</th>\n",
       "      <td>10</td>\n",
       "      <td>1421528061</td>\n",
       "      <td>u0009522</td>\n",
       "      <td>i1187043</td>\n",
       "      <td>111</td>\n",
       "      <td>20</td>\n",
       "    </tr>\n",
       "    <tr>\n",
       "      <th>336668</th>\n",
       "      <td>8</td>\n",
       "      <td>1421528114</td>\n",
       "      <td>u0034255</td>\n",
       "      <td>i0166924</td>\n",
       "      <td>55</td>\n",
       "      <td>49</td>\n",
       "    </tr>\n",
       "    <tr>\n",
       "      <th>336670</th>\n",
       "      <td>7</td>\n",
       "      <td>1421528203</td>\n",
       "      <td>u0023373</td>\n",
       "      <td>i2084970</td>\n",
       "      <td>352</td>\n",
       "      <td>72</td>\n",
       "    </tr>\n",
       "    <tr>\n",
       "      <th>336671</th>\n",
       "      <td>7</td>\n",
       "      <td>1421528215</td>\n",
       "      <td>u0030809</td>\n",
       "      <td>i0102510</td>\n",
       "      <td>12</td>\n",
       "      <td>3</td>\n",
       "    </tr>\n",
       "  </tbody>\n",
       "</table>\n",
       "<p>255173 rows × 6 columns</p>\n",
       "</div>"
      ],
      "text/plain": [
       "        Prediction   Timestamp    UserId    ItemId  count_item_apperances  \\\n",
       "2                6  1362062838  u0004598  i1411238                     43   \n",
       "3                7  1362063503  u0031317  i1496422                    100   \n",
       "4                5  1362063653  u0024257  i0118799                    102   \n",
       "5                4  1362063879  u0024257  i0338013                    209   \n",
       "7                8  1362064047  u0024257  i0064665                     28   \n",
       "...            ...         ...       ...       ...                    ...   \n",
       "336666           8  1421527966  u0028976  i2179136                    143   \n",
       "336667          10  1421528061  u0009522  i1187043                    111   \n",
       "336668           8  1421528114  u0034255  i0166924                     55   \n",
       "336670           7  1421528203  u0023373  i2084970                    352   \n",
       "336671           7  1421528215  u0030809  i0102510                     12   \n",
       "\n",
       "        count_user_apperances  \n",
       "2                         169  \n",
       "3                          53  \n",
       "4                         176  \n",
       "5                         176  \n",
       "7                         176  \n",
       "...                       ...  \n",
       "336666                     25  \n",
       "336667                     20  \n",
       "336668                     49  \n",
       "336670                     72  \n",
       "336671                      3  \n",
       "\n",
       "[255173 rows x 6 columns]"
      ]
     },
     "execution_count": 9,
     "metadata": {},
     "output_type": "execute_result"
    }
   ],
   "source": [
    "ratings"
   ]
  },
  {
   "cell_type": "code",
   "execution_count": 10,
   "metadata": {},
   "outputs": [
    {
     "data": {
      "text/html": [
       "<div>\n",
       "<style scoped>\n",
       "    .dataframe tbody tr th:only-of-type {\n",
       "        vertical-align: middle;\n",
       "    }\n",
       "\n",
       "    .dataframe tbody tr th {\n",
       "        vertical-align: top;\n",
       "    }\n",
       "\n",
       "    .dataframe thead th {\n",
       "        text-align: right;\n",
       "    }\n",
       "</style>\n",
       "<table border=\"1\" class=\"dataframe\">\n",
       "  <thead>\n",
       "    <tr style=\"text-align: right;\">\n",
       "      <th></th>\n",
       "    </tr>\n",
       "  </thead>\n",
       "  <tbody>\n",
       "    <tr>\n",
       "      <th>u0004598</th>\n",
       "    </tr>\n",
       "    <tr>\n",
       "      <th>u0031317</th>\n",
       "    </tr>\n",
       "    <tr>\n",
       "      <th>u0024257</th>\n",
       "    </tr>\n",
       "    <tr>\n",
       "      <th>u0029372</th>\n",
       "    </tr>\n",
       "    <tr>\n",
       "      <th>u0006099</th>\n",
       "    </tr>\n",
       "    <tr>\n",
       "      <th>...</th>\n",
       "    </tr>\n",
       "    <tr>\n",
       "      <th>u0033172</th>\n",
       "    </tr>\n",
       "    <tr>\n",
       "      <th>u0003117</th>\n",
       "    </tr>\n",
       "    <tr>\n",
       "      <th>u0012635</th>\n",
       "    </tr>\n",
       "    <tr>\n",
       "      <th>u0020391</th>\n",
       "    </tr>\n",
       "    <tr>\n",
       "      <th>u0026580</th>\n",
       "    </tr>\n",
       "  </tbody>\n",
       "</table>\n",
       "<p>7574 rows × 0 columns</p>\n",
       "</div>"
      ],
      "text/plain": [
       "Empty DataFrame\n",
       "Columns: []\n",
       "Index: [u0004598, u0031317, u0024257, u0029372, u0006099, u0010095, u0017242, u0010520, u0011075, u0023684, u0022913, u0031559, u0023947, u0036706, u0026647, u0025692, u0011389, u0013666, u0019874, u0008425, u0008191, u0013845, u0029934, u0027423, u0011884, u0008999, u0001325, u0026571, u0014255, u0013565, u0023278, u0026015, u0028836, u0035624, u0018277, u0026281, u0029254, u0032369, u0005140, u0038536, u0001649, u0032381, u0027420, u0035119, u0033596, u0029066, u0009517, u0004257, u0027664, u0010181, u0030753, u0005214, u0017009, u0017279, u0028852, u0025304, u0000669, u0018458, u0021596, u0021072, u0029933, u0036192, u0011304, u0027885, u0037035, u0009240, u0002339, u0037685, u0029898, u0036756, u0007702, u0011339, u0010770, u0021110, u0017837, u0025306, u0002490, u0004381, u0027382, u0023267, u0002372, u0006380, u0022183, u0022092, u0007784, u0038403, u0011726, u0015774, u0000871, u0031610, u0018861, u0033564, u0037597, u0023188, u0035417, u0031314, u0003093, u0027652, u0021487, u0019242, ...]\n",
       "\n",
       "[7574 rows x 0 columns]"
      ]
     },
     "execution_count": 10,
     "metadata": {},
     "output_type": "execute_result"
    }
   ],
   "source": [
    "ratings.set_index(\"UserId\",inplace=True)\n",
    "matrix = pd.DataFrame(index=pd.Index(ratings.index.unique().tolist()))\n",
    "matrix\n"
   ]
  },
  {
   "cell_type": "code",
   "execution_count": 11,
   "metadata": {},
   "outputs": [
    {
     "data": {
      "text/plain": [
       "120.22694730758667"
      ]
     },
     "execution_count": 11,
     "metadata": {},
     "output_type": "execute_result"
    }
   ],
   "source": [
    "import time\n",
    "start_time = time.time()\n",
    "\n",
    "for item in ratings[\"ItemId\"].unique().tolist():\n",
    "    predictions = ratings.loc[ratings[\"ItemId\"] == item][\"Prediction\"]\n",
    "    matrix[item] = predictions\n",
    "# your code\n",
    "time.time() - start_time"
   ]
  },
  {
   "cell_type": "code",
   "execution_count": 12,
   "metadata": {},
   "outputs": [],
   "source": [
    "# item = \"i0060196\"\n",
    "# predictions = ratings.loc[ratings[\"ItemId\"] == item][\"Prediction\"]\n",
    "# predictions"
   ]
  },
  {
   "cell_type": "code",
   "execution_count": 13,
   "metadata": {},
   "outputs": [],
   "source": [
    "# matrix[item] = predictions"
   ]
  },
  {
   "cell_type": "code",
   "execution_count": 14,
   "metadata": {},
   "outputs": [],
   "source": [
    "# ratings[\"count_item_apperances\"] = ratings.groupby(\"ItemId\")[\"ItemId\"].transform('count')"
   ]
  },
  {
   "cell_type": "code",
   "execution_count": 15,
   "metadata": {},
   "outputs": [],
   "source": [
    "# ratings[\"count_user_apperances\"] = ratings.groupby(\"UserId\")[\"UserId\"].transform('count')"
   ]
  },
  {
   "cell_type": "code",
   "execution_count": 16,
   "metadata": {},
   "outputs": [],
   "source": [
    "# ratings = ratings.loc[(ratings[\"count_item_apperances\"] > 10) | (ratings[\"ItemId\"].isin(targets[\"ItemId\"].unique().tolist()))]"
   ]
  },
  {
   "cell_type": "code",
   "execution_count": 17,
   "metadata": {},
   "outputs": [],
   "source": [
    "# ratings = ratings.loc[(ratings[\"count_user_apperances\"] > 10) | (ratings[\"UserId\"].isin(targets[\"UserId\"].unique().tolist()))]"
   ]
  },
  {
   "cell_type": "code",
   "execution_count": 14,
   "metadata": {},
   "outputs": [
    {
     "data": {
      "text/html": [
       "<div>\n",
       "<style scoped>\n",
       "    .dataframe tbody tr th:only-of-type {\n",
       "        vertical-align: middle;\n",
       "    }\n",
       "\n",
       "    .dataframe tbody tr th {\n",
       "        vertical-align: top;\n",
       "    }\n",
       "\n",
       "    .dataframe thead th {\n",
       "        text-align: right;\n",
       "    }\n",
       "</style>\n",
       "<table border=\"1\" class=\"dataframe\">\n",
       "  <thead>\n",
       "    <tr style=\"text-align: right;\">\n",
       "      <th></th>\n",
       "      <th>i1411238</th>\n",
       "      <th>i1496422</th>\n",
       "      <th>i0118799</th>\n",
       "      <th>i0338013</th>\n",
       "      <th>i0064665</th>\n",
       "      <th>i0884328</th>\n",
       "      <th>i0949731</th>\n",
       "      <th>i0319343</th>\n",
       "      <th>i1068680</th>\n",
       "      <th>i0376994</th>\n",
       "      <th>...</th>\n",
       "      <th>i2937898</th>\n",
       "      <th>i0068575</th>\n",
       "      <th>i2513092</th>\n",
       "      <th>i0086969</th>\n",
       "      <th>i0165361</th>\n",
       "      <th>i2717822</th>\n",
       "      <th>i0102598</th>\n",
       "      <th>i0884732</th>\n",
       "      <th>i3140100</th>\n",
       "      <th>i3093522</th>\n",
       "    </tr>\n",
       "  </thead>\n",
       "  <tbody>\n",
       "    <tr>\n",
       "      <th>u0004598</th>\n",
       "      <td>-0.270968</td>\n",
       "      <td>0.000000</td>\n",
       "      <td>0.000000</td>\n",
       "      <td>0.000000</td>\n",
       "      <td>0.000000</td>\n",
       "      <td>0.000000</td>\n",
       "      <td>0.000000</td>\n",
       "      <td>0.000000</td>\n",
       "      <td>0.000000</td>\n",
       "      <td>0.0</td>\n",
       "      <td>...</td>\n",
       "      <td>0.0</td>\n",
       "      <td>0.0</td>\n",
       "      <td>0.0</td>\n",
       "      <td>0.0</td>\n",
       "      <td>0.0</td>\n",
       "      <td>0.0</td>\n",
       "      <td>0.0</td>\n",
       "      <td>0.0</td>\n",
       "      <td>0.0</td>\n",
       "      <td>0.0</td>\n",
       "    </tr>\n",
       "    <tr>\n",
       "      <th>u0031317</th>\n",
       "      <td>0.000000</td>\n",
       "      <td>1.019231</td>\n",
       "      <td>0.000000</td>\n",
       "      <td>0.000000</td>\n",
       "      <td>0.000000</td>\n",
       "      <td>0.000000</td>\n",
       "      <td>0.000000</td>\n",
       "      <td>0.000000</td>\n",
       "      <td>0.000000</td>\n",
       "      <td>0.0</td>\n",
       "      <td>...</td>\n",
       "      <td>0.0</td>\n",
       "      <td>0.0</td>\n",
       "      <td>0.0</td>\n",
       "      <td>0.0</td>\n",
       "      <td>0.0</td>\n",
       "      <td>0.0</td>\n",
       "      <td>0.0</td>\n",
       "      <td>0.0</td>\n",
       "      <td>0.0</td>\n",
       "      <td>0.0</td>\n",
       "    </tr>\n",
       "    <tr>\n",
       "      <th>u0024257</th>\n",
       "      <td>0.000000</td>\n",
       "      <td>0.000000</td>\n",
       "      <td>-0.725806</td>\n",
       "      <td>-1.725806</td>\n",
       "      <td>2.274194</td>\n",
       "      <td>0.000000</td>\n",
       "      <td>0.000000</td>\n",
       "      <td>0.000000</td>\n",
       "      <td>0.000000</td>\n",
       "      <td>0.0</td>\n",
       "      <td>...</td>\n",
       "      <td>0.0</td>\n",
       "      <td>0.0</td>\n",
       "      <td>0.0</td>\n",
       "      <td>0.0</td>\n",
       "      <td>0.0</td>\n",
       "      <td>0.0</td>\n",
       "      <td>0.0</td>\n",
       "      <td>0.0</td>\n",
       "      <td>0.0</td>\n",
       "      <td>0.0</td>\n",
       "    </tr>\n",
       "    <tr>\n",
       "      <th>u0029372</th>\n",
       "      <td>0.000000</td>\n",
       "      <td>0.000000</td>\n",
       "      <td>0.000000</td>\n",
       "      <td>0.000000</td>\n",
       "      <td>0.000000</td>\n",
       "      <td>1.790323</td>\n",
       "      <td>0.000000</td>\n",
       "      <td>0.000000</td>\n",
       "      <td>0.000000</td>\n",
       "      <td>0.0</td>\n",
       "      <td>...</td>\n",
       "      <td>0.0</td>\n",
       "      <td>0.0</td>\n",
       "      <td>0.0</td>\n",
       "      <td>0.0</td>\n",
       "      <td>0.0</td>\n",
       "      <td>0.0</td>\n",
       "      <td>0.0</td>\n",
       "      <td>0.0</td>\n",
       "      <td>0.0</td>\n",
       "      <td>0.0</td>\n",
       "    </tr>\n",
       "    <tr>\n",
       "      <th>u0006099</th>\n",
       "      <td>0.000000</td>\n",
       "      <td>0.000000</td>\n",
       "      <td>0.000000</td>\n",
       "      <td>0.000000</td>\n",
       "      <td>0.000000</td>\n",
       "      <td>0.000000</td>\n",
       "      <td>-1.105634</td>\n",
       "      <td>-0.105634</td>\n",
       "      <td>0.894366</td>\n",
       "      <td>0.0</td>\n",
       "      <td>...</td>\n",
       "      <td>0.0</td>\n",
       "      <td>0.0</td>\n",
       "      <td>0.0</td>\n",
       "      <td>0.0</td>\n",
       "      <td>0.0</td>\n",
       "      <td>0.0</td>\n",
       "      <td>0.0</td>\n",
       "      <td>0.0</td>\n",
       "      <td>0.0</td>\n",
       "      <td>0.0</td>\n",
       "    </tr>\n",
       "    <tr>\n",
       "      <th>...</th>\n",
       "      <td>...</td>\n",
       "      <td>...</td>\n",
       "      <td>...</td>\n",
       "      <td>...</td>\n",
       "      <td>...</td>\n",
       "      <td>...</td>\n",
       "      <td>...</td>\n",
       "      <td>...</td>\n",
       "      <td>...</td>\n",
       "      <td>...</td>\n",
       "      <td>...</td>\n",
       "      <td>...</td>\n",
       "      <td>...</td>\n",
       "      <td>...</td>\n",
       "      <td>...</td>\n",
       "      <td>...</td>\n",
       "      <td>...</td>\n",
       "      <td>...</td>\n",
       "      <td>...</td>\n",
       "      <td>...</td>\n",
       "      <td>...</td>\n",
       "    </tr>\n",
       "    <tr>\n",
       "      <th>u0033172</th>\n",
       "      <td>0.000000</td>\n",
       "      <td>0.000000</td>\n",
       "      <td>0.000000</td>\n",
       "      <td>0.000000</td>\n",
       "      <td>0.000000</td>\n",
       "      <td>0.000000</td>\n",
       "      <td>0.000000</td>\n",
       "      <td>0.000000</td>\n",
       "      <td>0.000000</td>\n",
       "      <td>0.0</td>\n",
       "      <td>...</td>\n",
       "      <td>0.0</td>\n",
       "      <td>0.0</td>\n",
       "      <td>0.0</td>\n",
       "      <td>0.0</td>\n",
       "      <td>0.0</td>\n",
       "      <td>0.0</td>\n",
       "      <td>0.0</td>\n",
       "      <td>0.0</td>\n",
       "      <td>0.0</td>\n",
       "      <td>0.0</td>\n",
       "    </tr>\n",
       "    <tr>\n",
       "      <th>u0003117</th>\n",
       "      <td>0.000000</td>\n",
       "      <td>0.000000</td>\n",
       "      <td>0.000000</td>\n",
       "      <td>0.000000</td>\n",
       "      <td>0.000000</td>\n",
       "      <td>0.000000</td>\n",
       "      <td>0.000000</td>\n",
       "      <td>0.000000</td>\n",
       "      <td>0.000000</td>\n",
       "      <td>0.0</td>\n",
       "      <td>...</td>\n",
       "      <td>0.0</td>\n",
       "      <td>0.0</td>\n",
       "      <td>0.0</td>\n",
       "      <td>0.0</td>\n",
       "      <td>0.0</td>\n",
       "      <td>0.0</td>\n",
       "      <td>0.0</td>\n",
       "      <td>0.0</td>\n",
       "      <td>0.0</td>\n",
       "      <td>0.0</td>\n",
       "    </tr>\n",
       "    <tr>\n",
       "      <th>u0012635</th>\n",
       "      <td>0.000000</td>\n",
       "      <td>0.000000</td>\n",
       "      <td>0.000000</td>\n",
       "      <td>0.000000</td>\n",
       "      <td>0.000000</td>\n",
       "      <td>0.000000</td>\n",
       "      <td>0.000000</td>\n",
       "      <td>0.000000</td>\n",
       "      <td>0.000000</td>\n",
       "      <td>0.0</td>\n",
       "      <td>...</td>\n",
       "      <td>0.0</td>\n",
       "      <td>0.0</td>\n",
       "      <td>0.0</td>\n",
       "      <td>0.0</td>\n",
       "      <td>0.0</td>\n",
       "      <td>0.0</td>\n",
       "      <td>0.0</td>\n",
       "      <td>0.0</td>\n",
       "      <td>0.0</td>\n",
       "      <td>0.0</td>\n",
       "    </tr>\n",
       "    <tr>\n",
       "      <th>u0020391</th>\n",
       "      <td>0.000000</td>\n",
       "      <td>0.000000</td>\n",
       "      <td>0.000000</td>\n",
       "      <td>0.000000</td>\n",
       "      <td>0.000000</td>\n",
       "      <td>0.000000</td>\n",
       "      <td>0.000000</td>\n",
       "      <td>0.000000</td>\n",
       "      <td>0.000000</td>\n",
       "      <td>0.0</td>\n",
       "      <td>...</td>\n",
       "      <td>0.0</td>\n",
       "      <td>0.0</td>\n",
       "      <td>0.0</td>\n",
       "      <td>0.0</td>\n",
       "      <td>0.0</td>\n",
       "      <td>0.0</td>\n",
       "      <td>0.0</td>\n",
       "      <td>0.0</td>\n",
       "      <td>0.0</td>\n",
       "      <td>0.0</td>\n",
       "    </tr>\n",
       "    <tr>\n",
       "      <th>u0026580</th>\n",
       "      <td>0.000000</td>\n",
       "      <td>0.000000</td>\n",
       "      <td>0.000000</td>\n",
       "      <td>0.000000</td>\n",
       "      <td>0.000000</td>\n",
       "      <td>0.000000</td>\n",
       "      <td>0.000000</td>\n",
       "      <td>0.000000</td>\n",
       "      <td>0.000000</td>\n",
       "      <td>0.0</td>\n",
       "      <td>...</td>\n",
       "      <td>0.0</td>\n",
       "      <td>0.0</td>\n",
       "      <td>0.0</td>\n",
       "      <td>0.0</td>\n",
       "      <td>0.0</td>\n",
       "      <td>0.0</td>\n",
       "      <td>0.0</td>\n",
       "      <td>0.0</td>\n",
       "      <td>0.0</td>\n",
       "      <td>0.0</td>\n",
       "    </tr>\n",
       "  </tbody>\n",
       "</table>\n",
       "<p>7574 rows × 7266 columns</p>\n",
       "</div>"
      ],
      "text/plain": [
       "          i1411238  i1496422  i0118799  i0338013  i0064665  i0884328  \\\n",
       "u0004598 -0.270968  0.000000  0.000000  0.000000  0.000000  0.000000   \n",
       "u0031317  0.000000  1.019231  0.000000  0.000000  0.000000  0.000000   \n",
       "u0024257  0.000000  0.000000 -0.725806 -1.725806  2.274194  0.000000   \n",
       "u0029372  0.000000  0.000000  0.000000  0.000000  0.000000  1.790323   \n",
       "u0006099  0.000000  0.000000  0.000000  0.000000  0.000000  0.000000   \n",
       "...            ...       ...       ...       ...       ...       ...   \n",
       "u0033172  0.000000  0.000000  0.000000  0.000000  0.000000  0.000000   \n",
       "u0003117  0.000000  0.000000  0.000000  0.000000  0.000000  0.000000   \n",
       "u0012635  0.000000  0.000000  0.000000  0.000000  0.000000  0.000000   \n",
       "u0020391  0.000000  0.000000  0.000000  0.000000  0.000000  0.000000   \n",
       "u0026580  0.000000  0.000000  0.000000  0.000000  0.000000  0.000000   \n",
       "\n",
       "          i0949731  i0319343  i1068680  i0376994  ...  i2937898  i0068575  \\\n",
       "u0004598  0.000000  0.000000  0.000000       0.0  ...       0.0       0.0   \n",
       "u0031317  0.000000  0.000000  0.000000       0.0  ...       0.0       0.0   \n",
       "u0024257  0.000000  0.000000  0.000000       0.0  ...       0.0       0.0   \n",
       "u0029372  0.000000  0.000000  0.000000       0.0  ...       0.0       0.0   \n",
       "u0006099 -1.105634 -0.105634  0.894366       0.0  ...       0.0       0.0   \n",
       "...            ...       ...       ...       ...  ...       ...       ...   \n",
       "u0033172  0.000000  0.000000  0.000000       0.0  ...       0.0       0.0   \n",
       "u0003117  0.000000  0.000000  0.000000       0.0  ...       0.0       0.0   \n",
       "u0012635  0.000000  0.000000  0.000000       0.0  ...       0.0       0.0   \n",
       "u0020391  0.000000  0.000000  0.000000       0.0  ...       0.0       0.0   \n",
       "u0026580  0.000000  0.000000  0.000000       0.0  ...       0.0       0.0   \n",
       "\n",
       "          i2513092  i0086969  i0165361  i2717822  i0102598  i0884732  \\\n",
       "u0004598       0.0       0.0       0.0       0.0       0.0       0.0   \n",
       "u0031317       0.0       0.0       0.0       0.0       0.0       0.0   \n",
       "u0024257       0.0       0.0       0.0       0.0       0.0       0.0   \n",
       "u0029372       0.0       0.0       0.0       0.0       0.0       0.0   \n",
       "u0006099       0.0       0.0       0.0       0.0       0.0       0.0   \n",
       "...            ...       ...       ...       ...       ...       ...   \n",
       "u0033172       0.0       0.0       0.0       0.0       0.0       0.0   \n",
       "u0003117       0.0       0.0       0.0       0.0       0.0       0.0   \n",
       "u0012635       0.0       0.0       0.0       0.0       0.0       0.0   \n",
       "u0020391       0.0       0.0       0.0       0.0       0.0       0.0   \n",
       "u0026580       0.0       0.0       0.0       0.0       0.0       0.0   \n",
       "\n",
       "          i3140100  i3093522  \n",
       "u0004598       0.0       0.0  \n",
       "u0031317       0.0       0.0  \n",
       "u0024257       0.0       0.0  \n",
       "u0029372       0.0       0.0  \n",
       "u0006099       0.0       0.0  \n",
       "...            ...       ...  \n",
       "u0033172       0.0       0.0  \n",
       "u0003117       0.0       0.0  \n",
       "u0012635       0.0       0.0  \n",
       "u0020391       0.0       0.0  \n",
       "u0026580       0.0       0.0  \n",
       "\n",
       "[7574 rows x 7266 columns]"
      ]
     },
     "execution_count": 14,
     "metadata": {},
     "output_type": "execute_result"
    }
   ],
   "source": [
    "matrix"
   ]
  },
  {
   "cell_type": "code",
   "execution_count": 13,
   "metadata": {},
   "outputs": [],
   "source": [
    "matrix = matrix.apply(lambda x : x - x.mean(),axis=1).fillna(0)"
   ]
  },
  {
   "cell_type": "code",
   "execution_count": 15,
   "metadata": {},
   "outputs": [],
   "source": [
    "user_item = matrix.to_numpy()"
   ]
  },
  {
   "cell_type": "code",
   "execution_count": 16,
   "metadata": {},
   "outputs": [
    {
     "data": {
      "text/plain": [
       "array([[-0.27096774,  0.        ,  0.        , ...,  0.        ,\n",
       "         0.        ,  0.        ],\n",
       "       [ 0.        ,  1.01923077,  0.        , ...,  0.        ,\n",
       "         0.        ,  0.        ],\n",
       "       [ 0.        ,  0.        , -0.72580645, ...,  0.        ,\n",
       "         0.        ,  0.        ],\n",
       "       ...,\n",
       "       [ 0.        ,  0.        ,  0.        , ...,  0.        ,\n",
       "         0.        ,  0.        ],\n",
       "       [ 0.        ,  0.        ,  0.        , ...,  0.        ,\n",
       "         0.        ,  0.        ],\n",
       "       [ 0.        ,  0.        ,  0.        , ...,  0.        ,\n",
       "         0.        ,  0.        ]])"
      ]
     },
     "execution_count": 16,
     "metadata": {},
     "output_type": "execute_result"
    }
   ],
   "source": [
    "user_item"
   ]
  },
  {
   "cell_type": "code",
   "execution_count": 17,
   "metadata": {},
   "outputs": [
    {
     "data": {
      "text/plain": [
       "array([[11.04122325, 14.92487564, 13.45074263, ...,  0.87170531,\n",
       "         0.58247423,  2.07692308]])"
      ]
     },
     "execution_count": 17,
     "metadata": {},
     "output_type": "execute_result"
    }
   ],
   "source": [
    "norm = np.reshape(np.linalg.norm(user_item , axis=0), (1,user_item.shape[1]) )\n",
    "norm"
   ]
  },
  {
   "cell_type": "code",
   "execution_count": 18,
   "metadata": {},
   "outputs": [
    {
     "data": {
      "text/plain": [
       "(1, 7266)"
      ]
     },
     "execution_count": 18,
     "metadata": {},
     "output_type": "execute_result"
    }
   ],
   "source": [
    "norm.shape"
   ]
  },
  {
   "cell_type": "code",
   "execution_count": 32,
   "metadata": {},
   "outputs": [
    {
     "data": {
      "text/plain": [
       "array([[121.90861075, 164.78888388, 148.51265225, ...,   9.62469296,\n",
       "          6.43122797,  22.93177136],\n",
       "       [164.78888388, 222.75191295, 200.75066113, ...,  13.01009338,\n",
       "          8.6933554 ,  30.99781864],\n",
       "       [148.51265225, 200.75066113, 180.92247743, ...,  11.72508381,\n",
       "          7.83471092,  27.93615778],\n",
       "       ...,\n",
       "       [  9.62469296,  13.01009338,  11.72508381, ...,   0.75987015,\n",
       "          0.50774588,   1.81046488],\n",
       "       [  6.43122797,   8.6933554 ,   7.83471092, ...,   0.50774588,\n",
       "          0.33927622,   1.20975416],\n",
       "       [ 22.93177136,  30.99781864,  27.93615778, ...,   1.81046488,\n",
       "          1.20975416,   4.31360947]])"
      ]
     },
     "execution_count": 32,
     "metadata": {},
     "output_type": "execute_result"
    }
   ],
   "source": [
    "norm_sum = norm * norm.T # elemem wise multply\n",
    "norm_sum #divisor da similaridade"
   ]
  },
  {
   "cell_type": "code",
   "execution_count": 33,
   "metadata": {},
   "outputs": [
    {
     "data": {
      "text/plain": [
       "array([[121.90861075,   2.87917146,  -2.82167168, ...,   0.        ,\n",
       "          0.        ,   0.        ],\n",
       "       [  2.87917146, 222.75191295,  -1.21804414, ...,   0.        ,\n",
       "          0.        ,   0.        ],\n",
       "       [ -2.82167168,  -1.21804414, 180.92247743, ...,   0.        ,\n",
       "          0.        ,   0.        ],\n",
       "       ...,\n",
       "       [  0.        ,   0.        ,   0.        , ...,   0.75987015,\n",
       "          0.        ,   0.        ],\n",
       "       [  0.        ,   0.        ,   0.        , ...,   0.        ,\n",
       "          0.33927622,   0.        ],\n",
       "       [  0.        ,   0.        ,   0.        , ...,   0.        ,\n",
       "          0.        ,   4.31360947]])"
      ]
     },
     "execution_count": 33,
     "metadata": {},
     "output_type": "execute_result"
    }
   ],
   "source": [
    "item_times_item = user_item.T @ user_item # != m @ m.T\n",
    "item_times_item\n"
   ]
  },
  {
   "cell_type": "code",
   "execution_count": 35,
   "metadata": {},
   "outputs": [
    {
     "data": {
      "text/plain": [
       "array([[ 1.        ,  0.01747188, -0.01899954, ...,  0.        ,\n",
       "         0.        ,  0.        ],\n",
       "       [ 0.01747188,  1.        , -0.00606745, ...,  0.        ,\n",
       "         0.        ,  0.        ],\n",
       "       [-0.01899954, -0.00606745,  1.        , ...,  0.        ,\n",
       "         0.        ,  0.        ],\n",
       "       ...,\n",
       "       [ 0.        ,  0.        ,  0.        , ...,  1.        ,\n",
       "         0.        ,  0.        ],\n",
       "       [ 0.        ,  0.        ,  0.        , ...,  0.        ,\n",
       "         1.        ,  0.        ],\n",
       "       [ 0.        ,  0.        ,  0.        , ...,  0.        ,\n",
       "         0.        ,  1.        ]])"
      ]
     },
     "execution_count": 35,
     "metadata": {},
     "output_type": "execute_result"
    }
   ],
   "source": [
    "similarity = item_times_item/norm_sum\n",
    "similarity #matriz de similaridades item X item"
   ]
  },
  {
   "cell_type": "code",
   "execution_count": 38,
   "metadata": {},
   "outputs": [
    {
     "data": {
      "text/plain": [
       "(7266, 7266)"
      ]
     },
     "execution_count": 38,
     "metadata": {},
     "output_type": "execute_result"
    }
   ],
   "source": [
    "similarity.shape"
   ]
  },
  {
   "cell_type": "code",
   "execution_count": 42,
   "metadata": {},
   "outputs": [
    {
     "name": "stdout",
     "output_type": "stream",
     "text": [
      "   A  B  C  D  E\n",
      "0  0  2  4  3  3\n",
      "1  4  1  0  2  4\n",
      "2  3  0  1  0  2\n",
      "3  4  2  4  1  1\n"
     ]
    },
    {
     "data": {
      "text/plain": [
       "array([[ 0,  4, 16,  9,  9],\n",
       "       [16,  1,  0,  4, 16],\n",
       "       [ 9,  0,  1,  0,  4],\n",
       "       [16,  4, 16,  1,  1]])"
      ]
     },
     "execution_count": 42,
     "metadata": {},
     "output_type": "execute_result"
    }
   ],
   "source": [
    "df = pd.DataFrame(np.random.randint(0,5,size=(4, 5)), columns=list('ABCDE'))\n",
    "print (df)\n",
    "a=df.to_numpy()\n",
    "a*a"
   ]
  }
 ],
 "metadata": {
  "kernelspec": {
   "display_name": "Python 3",
   "language": "python",
   "name": "python3"
  },
  "language_info": {
   "codemirror_mode": {
    "name": "ipython",
    "version": 3
   },
   "file_extension": ".py",
   "mimetype": "text/x-python",
   "name": "python",
   "nbconvert_exporter": "python",
   "pygments_lexer": "ipython3",
   "version": "3.8.5"
  }
 },
 "nbformat": 4,
 "nbformat_minor": 4
}
